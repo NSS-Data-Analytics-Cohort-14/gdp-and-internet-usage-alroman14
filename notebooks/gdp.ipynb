{
 "cells": [
  {
   "cell_type": "markdown",
   "id": "804ac698-1c61-4830-975d-38d417013034",
   "metadata": {},
   "source": [
    "## This is a example of how you will be doing projects in python.\n",
    "### Use markdown cells -OR- comments in cells to place AT LEAST the question number you are working on. "
   ]
  },
  {
   "cell_type": "markdown",
   "id": "90123210-b670-4d62-bbda-010eeac5dba5",
   "metadata": {},
   "source": [
    "3.\tImport the required packages"
   ]
  },
  {
   "cell_type": "code",
   "execution_count": 5,
   "id": "297b1e92-5e76-4e59-8085-d1ac23ff1c4f",
   "metadata": {},
   "outputs": [],
   "source": [
    "import pandas as pd\n",
    "import numpy as np\n",
    "import matplotlib.pyplot as plt\n",
    "import seaborn as sns"
   ]
  },
  {
   "cell_type": "markdown",
   "id": "3f81942c-9dbe-43e8-90fa-ba3e6be8389a",
   "metadata": {},
   "source": [
    "4. Using the pandas `read_csv()` method, read the GDP dataset into your notebook as a DataFrame called `gdp_df`. Take a look at the first few and last few rows to familiarize yourself with what is contained in this dataset."
   ]
  },
  {
   "cell_type": "code",
   "execution_count": 6,
   "id": "9258fe6d-6afa-462f-8197-c484f97cf4c7",
   "metadata": {},
   "outputs": [],
   "source": [
    "gdp_df = pd.read_csv('../data/gdp_percapita.csv')"
   ]
  },
  {
   "cell_type": "code",
   "execution_count": 7,
   "id": "f14fe0c6-bc1a-4f2b-a736-ffacdfffbe05",
   "metadata": {},
   "outputs": [
    {
     "data": {
      "text/html": [
       "<div>\n",
       "<style scoped>\n",
       "    .dataframe tbody tr th:only-of-type {\n",
       "        vertical-align: middle;\n",
       "    }\n",
       "\n",
       "    .dataframe tbody tr th {\n",
       "        vertical-align: top;\n",
       "    }\n",
       "\n",
       "    .dataframe thead th {\n",
       "        text-align: right;\n",
       "    }\n",
       "</style>\n",
       "<table border=\"1\" class=\"dataframe\">\n",
       "  <thead>\n",
       "    <tr style=\"text-align: right;\">\n",
       "      <th></th>\n",
       "      <th>Country or Area</th>\n",
       "      <th>Year</th>\n",
       "      <th>Value</th>\n",
       "      <th>Value Footnotes</th>\n",
       "    </tr>\n",
       "  </thead>\n",
       "  <tbody>\n",
       "    <tr>\n",
       "      <th>0</th>\n",
       "      <td>Afghanistan</td>\n",
       "      <td>2023</td>\n",
       "      <td>1992.424394</td>\n",
       "      <td>NaN</td>\n",
       "    </tr>\n",
       "    <tr>\n",
       "      <th>1</th>\n",
       "      <td>Afghanistan</td>\n",
       "      <td>2022</td>\n",
       "      <td>1981.710168</td>\n",
       "      <td>NaN</td>\n",
       "    </tr>\n",
       "    <tr>\n",
       "      <th>2</th>\n",
       "      <td>Afghanistan</td>\n",
       "      <td>2021</td>\n",
       "      <td>2144.166570</td>\n",
       "      <td>NaN</td>\n",
       "    </tr>\n",
       "    <tr>\n",
       "      <th>3</th>\n",
       "      <td>Afghanistan</td>\n",
       "      <td>2020</td>\n",
       "      <td>2769.685745</td>\n",
       "      <td>NaN</td>\n",
       "    </tr>\n",
       "    <tr>\n",
       "      <th>4</th>\n",
       "      <td>Afghanistan</td>\n",
       "      <td>2019</td>\n",
       "      <td>2927.245144</td>\n",
       "      <td>NaN</td>\n",
       "    </tr>\n",
       "  </tbody>\n",
       "</table>\n",
       "</div>"
      ],
      "text/plain": [
       "  Country or Area  Year        Value  Value Footnotes\n",
       "0     Afghanistan  2023  1992.424394              NaN\n",
       "1     Afghanistan  2022  1981.710168              NaN\n",
       "2     Afghanistan  2021  2144.166570              NaN\n",
       "3     Afghanistan  2020  2769.685745              NaN\n",
       "4     Afghanistan  2019  2927.245144              NaN"
      ]
     },
     "execution_count": 7,
     "metadata": {},
     "output_type": "execute_result"
    }
   ],
   "source": [
    "gdp_df.head()"
   ]
  },
  {
   "cell_type": "code",
   "execution_count": 8,
   "id": "a04b9f60-8165-4eab-8993-8f3420aa012a",
   "metadata": {},
   "outputs": [
    {
     "data": {
      "text/html": [
       "<div>\n",
       "<style scoped>\n",
       "    .dataframe tbody tr th:only-of-type {\n",
       "        vertical-align: middle;\n",
       "    }\n",
       "\n",
       "    .dataframe tbody tr th {\n",
       "        vertical-align: top;\n",
       "    }\n",
       "\n",
       "    .dataframe thead th {\n",
       "        text-align: right;\n",
       "    }\n",
       "</style>\n",
       "<table border=\"1\" class=\"dataframe\">\n",
       "  <thead>\n",
       "    <tr style=\"text-align: right;\">\n",
       "      <th></th>\n",
       "      <th>Country or Area</th>\n",
       "      <th>Year</th>\n",
       "      <th>Value</th>\n",
       "      <th>Value Footnotes</th>\n",
       "    </tr>\n",
       "  </thead>\n",
       "  <tbody>\n",
       "    <tr>\n",
       "      <th>8214</th>\n",
       "      <td>Zimbabwe</td>\n",
       "      <td>1994</td>\n",
       "      <td>3965.730986</td>\n",
       "      <td>NaN</td>\n",
       "    </tr>\n",
       "    <tr>\n",
       "      <th>8215</th>\n",
       "      <td>Zimbabwe</td>\n",
       "      <td>1993</td>\n",
       "      <td>3634.750494</td>\n",
       "      <td>NaN</td>\n",
       "    </tr>\n",
       "    <tr>\n",
       "      <th>8216</th>\n",
       "      <td>Zimbabwe</td>\n",
       "      <td>1992</td>\n",
       "      <td>3649.891947</td>\n",
       "      <td>NaN</td>\n",
       "    </tr>\n",
       "    <tr>\n",
       "      <th>8217</th>\n",
       "      <td>Zimbabwe</td>\n",
       "      <td>1991</td>\n",
       "      <td>4126.405247</td>\n",
       "      <td>NaN</td>\n",
       "    </tr>\n",
       "    <tr>\n",
       "      <th>8218</th>\n",
       "      <td>Zimbabwe</td>\n",
       "      <td>1990</td>\n",
       "      <td>4013.299059</td>\n",
       "      <td>NaN</td>\n",
       "    </tr>\n",
       "  </tbody>\n",
       "</table>\n",
       "</div>"
      ],
      "text/plain": [
       "     Country or Area  Year        Value  Value Footnotes\n",
       "8214        Zimbabwe  1994  3965.730986              NaN\n",
       "8215        Zimbabwe  1993  3634.750494              NaN\n",
       "8216        Zimbabwe  1992  3649.891947              NaN\n",
       "8217        Zimbabwe  1991  4126.405247              NaN\n",
       "8218        Zimbabwe  1990  4013.299059              NaN"
      ]
     },
     "execution_count": 8,
     "metadata": {},
     "output_type": "execute_result"
    }
   ],
   "source": [
    "gdp_df.tail()"
   ]
  },
  {
   "cell_type": "markdown",
   "id": "728cd96e-d530-4ddc-a298-b1218d1cdc93",
   "metadata": {},
   "source": [
    "5. How many rows and columns are in `gdp_df`? What are the data types of each column?"
   ]
  },
  {
   "cell_type": "code",
   "execution_count": 9,
   "id": "cd203aad-fae1-466d-9107-e001a4b310c4",
   "metadata": {},
   "outputs": [
    {
     "name": "stdout",
     "output_type": "stream",
     "text": [
      "8219\n"
     ]
    }
   ],
   "source": [
    "num_rows = len(gdp_df)\n",
    "print(num_rows)"
   ]
  },
  {
   "cell_type": "code",
   "execution_count": 10,
   "id": "f826f694-6d42-4cf3-b0a0-57b7f2793628",
   "metadata": {},
   "outputs": [
    {
     "name": "stdout",
     "output_type": "stream",
     "text": [
      "4\n"
     ]
    }
   ],
   "source": [
    "num_columns = len(gdp_df.columns)\n",
    "print(num_columns)"
   ]
  },
  {
   "cell_type": "code",
   "execution_count": 11,
   "id": "a7b74abf-b14e-4e05-8d2f-20942cf9e0e2",
   "metadata": {},
   "outputs": [
    {
     "name": "stdout",
     "output_type": "stream",
     "text": [
      "8219 4\n",
      "Rows: 8219, Columns: 4\n"
     ]
    }
   ],
   "source": [
    "rows, cols = gdp_df.shape\n",
    "print(rows, cols)\n",
    "print(f\"Rows: {rows}, Columns: {cols}\")"
   ]
  },
  {
   "cell_type": "code",
   "execution_count": 12,
   "id": "5ddb247b-53d6-412d-93fe-7b96d9050dc7",
   "metadata": {},
   "outputs": [
    {
     "name": "stdout",
     "output_type": "stream",
     "text": [
      "(8219, 4)\n"
     ]
    }
   ],
   "source": [
    "print(gdp_df.shape)"
   ]
  },
  {
   "cell_type": "code",
   "execution_count": 13,
   "id": "39a2ecde-d26d-48b5-8c41-ec886a716191",
   "metadata": {},
   "outputs": [
    {
     "name": "stdout",
     "output_type": "stream",
     "text": [
      "<class 'pandas.core.frame.DataFrame'>\n",
      "RangeIndex: 8219 entries, 0 to 8218\n",
      "Data columns (total 4 columns):\n",
      " #   Column           Non-Null Count  Dtype  \n",
      "---  ------           --------------  -----  \n",
      " 0   Country or Area  8219 non-null   object \n",
      " 1   Year             8219 non-null   int64  \n",
      " 2   Value            8219 non-null   float64\n",
      " 3   Value Footnotes  0 non-null      float64\n",
      "dtypes: float64(2), int64(1), object(1)\n",
      "memory usage: 257.0+ KB\n",
      "None\n"
     ]
    }
   ],
   "source": [
    "print(gdp_df.info())"
   ]
  },
  {
   "cell_type": "markdown",
   "id": "6cc07c62-1a58-4460-affa-0635d5c2190e",
   "metadata": {},
   "source": [
    "6. Drop the `Value Footnotes` column and rename the remaining three to 'Country', 'Year', and 'GDP_Per_Capita'."
   ]
  },
  {
   "cell_type": "code",
   "execution_count": 14,
   "id": "92534803-32f6-44b0-a308-51aba463cdeb",
   "metadata": {},
   "outputs": [
    {
     "data": {
      "text/html": [
       "<div>\n",
       "<style scoped>\n",
       "    .dataframe tbody tr th:only-of-type {\n",
       "        vertical-align: middle;\n",
       "    }\n",
       "\n",
       "    .dataframe tbody tr th {\n",
       "        vertical-align: top;\n",
       "    }\n",
       "\n",
       "    .dataframe thead th {\n",
       "        text-align: right;\n",
       "    }\n",
       "</style>\n",
       "<table border=\"1\" class=\"dataframe\">\n",
       "  <thead>\n",
       "    <tr style=\"text-align: right;\">\n",
       "      <th></th>\n",
       "      <th>Country</th>\n",
       "      <th>Year</th>\n",
       "      <th>GDP_Per_Capita</th>\n",
       "    </tr>\n",
       "  </thead>\n",
       "  <tbody>\n",
       "    <tr>\n",
       "      <th>0</th>\n",
       "      <td>Afghanistan</td>\n",
       "      <td>2023</td>\n",
       "      <td>1992.424394</td>\n",
       "    </tr>\n",
       "    <tr>\n",
       "      <th>1</th>\n",
       "      <td>Afghanistan</td>\n",
       "      <td>2022</td>\n",
       "      <td>1981.710168</td>\n",
       "    </tr>\n",
       "    <tr>\n",
       "      <th>2</th>\n",
       "      <td>Afghanistan</td>\n",
       "      <td>2021</td>\n",
       "      <td>2144.166570</td>\n",
       "    </tr>\n",
       "    <tr>\n",
       "      <th>3</th>\n",
       "      <td>Afghanistan</td>\n",
       "      <td>2020</td>\n",
       "      <td>2769.685745</td>\n",
       "    </tr>\n",
       "    <tr>\n",
       "      <th>4</th>\n",
       "      <td>Afghanistan</td>\n",
       "      <td>2019</td>\n",
       "      <td>2927.245144</td>\n",
       "    </tr>\n",
       "  </tbody>\n",
       "</table>\n",
       "</div>"
      ],
      "text/plain": [
       "       Country  Year  GDP_Per_Capita\n",
       "0  Afghanistan  2023     1992.424394\n",
       "1  Afghanistan  2022     1981.710168\n",
       "2  Afghanistan  2021     2144.166570\n",
       "3  Afghanistan  2020     2769.685745\n",
       "4  Afghanistan  2019     2927.245144"
      ]
     },
     "execution_count": 14,
     "metadata": {},
     "output_type": "execute_result"
    }
   ],
   "source": [
    "gdp_df_drop = gdp_df.drop('Value Footnotes', axis = 1)\n",
    "gdp_df_final = gdp_df_drop.rename(columns={'Country or Area': 'Country', 'Value': 'GDP_Per_Capita'})\n",
    "gdp_df_final.head()"
   ]
  },
  {
   "cell_type": "markdown",
   "id": "acb47a67-d74a-4b54-9248-cae4049c19bd",
   "metadata": {},
   "source": [
    "7a. How many countries have data for all years?"
   ]
  },
  {
   "cell_type": "code",
   "execution_count": 15,
   "id": "9bd439c6-e3dd-444c-b9cb-2ffde14d8caf",
   "metadata": {},
   "outputs": [
    {
     "name": "stdout",
     "output_type": "stream",
     "text": [
      "Year              228\n",
      "GDP_Per_Capita    228\n",
      "dtype: int64\n"
     ]
    }
   ],
   "source": [
    "country_group = gdp_df_final.groupby('Country').count()\n",
    "all_country_group = country_group[country_group['Year'] == 34].count()\n",
    "print(all_country_group)"
   ]
  },
  {
   "cell_type": "markdown",
   "id": "a76f4f22-1a47-4d35-be5f-badd027d264f",
   "metadata": {},
   "source": [
    "7b. Which countries are missing many years of data?"
   ]
  },
  {
   "cell_type": "code",
   "execution_count": 16,
   "id": "b5f97a57-9f44-4d63-8d6f-d1036df9b516",
   "metadata": {},
   "outputs": [
    {
     "data": {
      "text/html": [
       "<div>\n",
       "<style scoped>\n",
       "    .dataframe tbody tr th:only-of-type {\n",
       "        vertical-align: middle;\n",
       "    }\n",
       "\n",
       "    .dataframe tbody tr th {\n",
       "        vertical-align: top;\n",
       "    }\n",
       "\n",
       "    .dataframe thead th {\n",
       "        text-align: right;\n",
       "    }\n",
       "</style>\n",
       "<table border=\"1\" class=\"dataframe\">\n",
       "  <thead>\n",
       "    <tr style=\"text-align: right;\">\n",
       "      <th></th>\n",
       "      <th>Years of Data</th>\n",
       "      <th>Missing No. of Years</th>\n",
       "    </tr>\n",
       "    <tr>\n",
       "      <th>Country</th>\n",
       "      <th></th>\n",
       "      <th></th>\n",
       "    </tr>\n",
       "  </thead>\n",
       "  <tbody>\n",
       "    <tr>\n",
       "      <th>Djibouti</th>\n",
       "      <td>11</td>\n",
       "      <td>23</td>\n",
       "    </tr>\n",
       "    <tr>\n",
       "      <th>Turks and Caicos Islands</th>\n",
       "      <td>13</td>\n",
       "      <td>21</td>\n",
       "    </tr>\n",
       "    <tr>\n",
       "      <th>Sint Maarten (Dutch part)</th>\n",
       "      <td>15</td>\n",
       "      <td>19</td>\n",
       "    </tr>\n",
       "    <tr>\n",
       "      <th>Faroe Islands</th>\n",
       "      <td>16</td>\n",
       "      <td>18</td>\n",
       "    </tr>\n",
       "    <tr>\n",
       "      <th>Kosovo</th>\n",
       "      <td>16</td>\n",
       "      <td>18</td>\n",
       "    </tr>\n",
       "    <tr>\n",
       "      <th>Cayman Islands</th>\n",
       "      <td>18</td>\n",
       "      <td>16</td>\n",
       "    </tr>\n",
       "    <tr>\n",
       "      <th>Virgin Islands</th>\n",
       "      <td>21</td>\n",
       "      <td>13</td>\n",
       "    </tr>\n",
       "    <tr>\n",
       "      <th>Afghanistan</th>\n",
       "      <td>24</td>\n",
       "      <td>10</td>\n",
       "    </tr>\n",
       "    <tr>\n",
       "      <th>CuraÃ§ao</th>\n",
       "      <td>24</td>\n",
       "      <td>10</td>\n",
       "    </tr>\n",
       "    <tr>\n",
       "      <th>San Marino</th>\n",
       "      <td>26</td>\n",
       "      <td>8</td>\n",
       "    </tr>\n",
       "    <tr>\n",
       "      <th>Montenegro</th>\n",
       "      <td>27</td>\n",
       "      <td>7</td>\n",
       "    </tr>\n",
       "    <tr>\n",
       "      <th>Serbia</th>\n",
       "      <td>29</td>\n",
       "      <td>5</td>\n",
       "    </tr>\n",
       "    <tr>\n",
       "      <th>West Bank and Gaza</th>\n",
       "      <td>30</td>\n",
       "      <td>4</td>\n",
       "    </tr>\n",
       "    <tr>\n",
       "      <th>Greenland</th>\n",
       "      <td>32</td>\n",
       "      <td>2</td>\n",
       "    </tr>\n",
       "    <tr>\n",
       "      <th>Bhutan</th>\n",
       "      <td>33</td>\n",
       "      <td>1</td>\n",
       "    </tr>\n",
       "    <tr>\n",
       "      <th>Somalia</th>\n",
       "      <td>33</td>\n",
       "      <td>1</td>\n",
       "    </tr>\n",
       "    <tr>\n",
       "      <th>Syrian Arab Republic</th>\n",
       "      <td>33</td>\n",
       "      <td>1</td>\n",
       "    </tr>\n",
       "    <tr>\n",
       "      <th>Tonga</th>\n",
       "      <td>33</td>\n",
       "      <td>1</td>\n",
       "    </tr>\n",
       "    <tr>\n",
       "      <th>Lebanon</th>\n",
       "      <td>33</td>\n",
       "      <td>1</td>\n",
       "    </tr>\n",
       "  </tbody>\n",
       "</table>\n",
       "</div>"
      ],
      "text/plain": [
       "                           Years of Data  Missing No. of Years\n",
       "Country                                                       \n",
       "Djibouti                              11                    23\n",
       "Turks and Caicos Islands              13                    21\n",
       "Sint Maarten (Dutch part)             15                    19\n",
       "Faroe Islands                         16                    18\n",
       "Kosovo                                16                    18\n",
       "Cayman Islands                        18                    16\n",
       "Virgin Islands                        21                    13\n",
       "Afghanistan                           24                    10\n",
       "CuraÃ§ao                              24                    10\n",
       "San Marino                            26                     8\n",
       "Montenegro                            27                     7\n",
       "Serbia                                29                     5\n",
       "West Bank and Gaza                    30                     4\n",
       "Greenland                             32                     2\n",
       "Bhutan                                33                     1\n",
       "Somalia                               33                     1\n",
       "Syrian Arab Republic                  33                     1\n",
       "Tonga                                 33                     1\n",
       "Lebanon                               33                     1"
      ]
     },
     "metadata": {},
     "output_type": "display_data"
    }
   ],
   "source": [
    "country_group = gdp_df_final.groupby('Country').count()\n",
    "filtered_country_group = country_group[country_group['Year'] < 34]\n",
    "filtered_country_group = filtered_country_group.rename(columns={'Year': 'Years of Data', 'GDP_Per_Capita': 'Missing No. of Years'})\n",
    "filtered_country_group[\"Missing No. of Years\"] = 34 - filtered_country_group[\"Missing No. of Years\"]\n",
    "sorted_filtered_country_group = filtered_country_group.sort_values(by=['Missing No. of Years'], ascending = False)\n",
    "display(sorted_filtered_country_group)"
   ]
  },
  {
   "cell_type": "markdown",
   "id": "eb78113f-f080-436e-a770-4117d703e364",
   "metadata": {},
   "source": [
    "7c. Look at the number of observations per year. What do you notice?"
   ]
  },
  {
   "cell_type": "markdown",
   "id": "dc8d6e15-8db7-4f56-b81f-bbcc065fc5c6",
   "metadata": {},
   "source": [
    "A: The number of observations increases each year until plateauing at 247 from 2013-2021 before declining. There are also only 195 countries in the world, so the number of observations exceeds the total number of countries - discovered that they also track regions with qualifiers."
   ]
  },
  {
   "cell_type": "code",
   "execution_count": 17,
   "id": "1e1eae3e-f247-4cf9-8139-089f15927107",
   "metadata": {},
   "outputs": [
    {
     "data": {
      "text/html": [
       "<div>\n",
       "<style scoped>\n",
       "    .dataframe tbody tr th:only-of-type {\n",
       "        vertical-align: middle;\n",
       "    }\n",
       "\n",
       "    .dataframe tbody tr th {\n",
       "        vertical-align: top;\n",
       "    }\n",
       "\n",
       "    .dataframe thead th {\n",
       "        text-align: right;\n",
       "    }\n",
       "</style>\n",
       "<table border=\"1\" class=\"dataframe\">\n",
       "  <thead>\n",
       "    <tr style=\"text-align: right;\">\n",
       "      <th></th>\n",
       "      <th>No. of Observations</th>\n",
       "    </tr>\n",
       "    <tr>\n",
       "      <th>Year</th>\n",
       "      <th></th>\n",
       "    </tr>\n",
       "  </thead>\n",
       "  <tbody>\n",
       "    <tr>\n",
       "      <th>1990</th>\n",
       "      <td>233</td>\n",
       "    </tr>\n",
       "    <tr>\n",
       "      <th>1991</th>\n",
       "      <td>234</td>\n",
       "    </tr>\n",
       "    <tr>\n",
       "      <th>1992</th>\n",
       "      <td>234</td>\n",
       "    </tr>\n",
       "    <tr>\n",
       "      <th>1993</th>\n",
       "      <td>234</td>\n",
       "    </tr>\n",
       "    <tr>\n",
       "      <th>1994</th>\n",
       "      <td>235</td>\n",
       "    </tr>\n",
       "    <tr>\n",
       "      <th>1995</th>\n",
       "      <td>236</td>\n",
       "    </tr>\n",
       "    <tr>\n",
       "      <th>1996</th>\n",
       "      <td>236</td>\n",
       "    </tr>\n",
       "    <tr>\n",
       "      <th>1997</th>\n",
       "      <td>238</td>\n",
       "    </tr>\n",
       "    <tr>\n",
       "      <th>1998</th>\n",
       "      <td>238</td>\n",
       "    </tr>\n",
       "    <tr>\n",
       "      <th>1999</th>\n",
       "      <td>238</td>\n",
       "    </tr>\n",
       "    <tr>\n",
       "      <th>2000</th>\n",
       "      <td>240</td>\n",
       "    </tr>\n",
       "    <tr>\n",
       "      <th>2001</th>\n",
       "      <td>240</td>\n",
       "    </tr>\n",
       "    <tr>\n",
       "      <th>2002</th>\n",
       "      <td>241</td>\n",
       "    </tr>\n",
       "    <tr>\n",
       "      <th>2003</th>\n",
       "      <td>241</td>\n",
       "    </tr>\n",
       "    <tr>\n",
       "      <th>2004</th>\n",
       "      <td>241</td>\n",
       "    </tr>\n",
       "    <tr>\n",
       "      <th>2005</th>\n",
       "      <td>241</td>\n",
       "    </tr>\n",
       "    <tr>\n",
       "      <th>2006</th>\n",
       "      <td>242</td>\n",
       "    </tr>\n",
       "    <tr>\n",
       "      <th>2007</th>\n",
       "      <td>242</td>\n",
       "    </tr>\n",
       "    <tr>\n",
       "      <th>2008</th>\n",
       "      <td>244</td>\n",
       "    </tr>\n",
       "    <tr>\n",
       "      <th>2009</th>\n",
       "      <td>245</td>\n",
       "    </tr>\n",
       "    <tr>\n",
       "      <th>2010</th>\n",
       "      <td>245</td>\n",
       "    </tr>\n",
       "    <tr>\n",
       "      <th>2011</th>\n",
       "      <td>246</td>\n",
       "    </tr>\n",
       "    <tr>\n",
       "      <th>2012</th>\n",
       "      <td>246</td>\n",
       "    </tr>\n",
       "    <tr>\n",
       "      <th>2013</th>\n",
       "      <td>247</td>\n",
       "    </tr>\n",
       "    <tr>\n",
       "      <th>2014</th>\n",
       "      <td>247</td>\n",
       "    </tr>\n",
       "    <tr>\n",
       "      <th>2015</th>\n",
       "      <td>247</td>\n",
       "    </tr>\n",
       "    <tr>\n",
       "      <th>2016</th>\n",
       "      <td>247</td>\n",
       "    </tr>\n",
       "    <tr>\n",
       "      <th>2017</th>\n",
       "      <td>247</td>\n",
       "    </tr>\n",
       "    <tr>\n",
       "      <th>2018</th>\n",
       "      <td>247</td>\n",
       "    </tr>\n",
       "    <tr>\n",
       "      <th>2019</th>\n",
       "      <td>247</td>\n",
       "    </tr>\n",
       "    <tr>\n",
       "      <th>2020</th>\n",
       "      <td>247</td>\n",
       "    </tr>\n",
       "    <tr>\n",
       "      <th>2021</th>\n",
       "      <td>247</td>\n",
       "    </tr>\n",
       "    <tr>\n",
       "      <th>2022</th>\n",
       "      <td>246</td>\n",
       "    </tr>\n",
       "    <tr>\n",
       "      <th>2023</th>\n",
       "      <td>240</td>\n",
       "    </tr>\n",
       "  </tbody>\n",
       "</table>\n",
       "</div>"
      ],
      "text/plain": [
       "      No. of Observations\n",
       "Year                     \n",
       "1990                  233\n",
       "1991                  234\n",
       "1992                  234\n",
       "1993                  234\n",
       "1994                  235\n",
       "1995                  236\n",
       "1996                  236\n",
       "1997                  238\n",
       "1998                  238\n",
       "1999                  238\n",
       "2000                  240\n",
       "2001                  240\n",
       "2002                  241\n",
       "2003                  241\n",
       "2004                  241\n",
       "2005                  241\n",
       "2006                  242\n",
       "2007                  242\n",
       "2008                  244\n",
       "2009                  245\n",
       "2010                  245\n",
       "2011                  246\n",
       "2012                  246\n",
       "2013                  247\n",
       "2014                  247\n",
       "2015                  247\n",
       "2016                  247\n",
       "2017                  247\n",
       "2018                  247\n",
       "2019                  247\n",
       "2020                  247\n",
       "2021                  247\n",
       "2022                  246\n",
       "2023                  240"
      ]
     },
     "metadata": {},
     "output_type": "display_data"
    }
   ],
   "source": [
    "year_group = gdp_df_final.groupby('Year').count()\n",
    "year_group = year_group.rename(columns={'Country': 'No. of Observations'})\n",
    "year_group = year_group.drop('GDP_Per_Capita', axis = 1)\n",
    "display(year_group)"
   ]
  },
  {
   "cell_type": "code",
   "execution_count": 18,
   "id": "af203608-7f60-4a23-a4bc-e636fa355e50",
   "metadata": {},
   "outputs": [
    {
     "name": "stdout",
     "output_type": "stream",
     "text": [
      "['Afghanistan' 'Africa Eastern and Southern' 'Africa Western and Central'\n",
      " 'Albania' 'Algeria' 'Andorra' 'Angola' 'Antigua and Barbuda' 'Arab World'\n",
      " 'Argentina' 'Armenia' 'Aruba' 'Australia' 'Austria' 'Azerbaijan'\n",
      " 'Bahrain' 'Bangladesh' 'Barbados' 'Belarus' 'Belgium' 'Belize' 'Benin'\n",
      " 'Bermuda' 'Bhutan' 'Bolivia' 'Bosnia and Herzegovina' 'Botswana' 'Brazil'\n",
      " 'Brunei' 'Bulgaria' 'Burkina Faso' 'Burundi' \"CÃ´te d'Ivoire\"\n",
      " 'Cabo Verde' 'Cambodia' 'Cameroon' 'Canada' 'Caribbean small states'\n",
      " 'Cayman Islands' 'Central African Republic'\n",
      " 'Central Europe and the Baltics' 'Chad' 'Chile' 'China' 'Colombia'\n",
      " 'Comoros' 'Congo' 'Costa Rica' 'Croatia' 'CuraÃ§ao' 'Cyprus' 'Czechia'\n",
      " 'Dem. Rep. Congo' 'Denmark' 'Djibouti' 'Dominica' 'Dominican Republic'\n",
      " 'Early-demographic dividend' 'East Asia & Pacific'\n",
      " 'East Asia & Pacific (excluding high income)'\n",
      " 'East Asia & Pacific (IDA & IBRD)' 'Ecuador' 'Egypt' 'El Salvador'\n",
      " 'Equatorial Guinea' 'Estonia' 'Eswatini' 'Ethiopia' 'Euro area'\n",
      " 'Europe & Central Asia' 'Europe & Central Asia (excluding high income)'\n",
      " 'Europe & Central Asia (IDA & IBRD)' 'European Union' 'Faroe Islands'\n",
      " 'Fiji' 'Finland' 'Fragile and conflict affected situations' 'France'\n",
      " 'Gabon' 'Georgia' 'Germany' 'Ghana' 'Greece' 'Greenland' 'Grenada'\n",
      " 'Guatemala' 'Guinea' 'Guinea-Bissau' 'Guyana' 'Haiti'\n",
      " 'Heavily indebted poor countries (HIPC)' 'High income' 'Honduras'\n",
      " 'Hong Kong SAR, China' 'Hungary' 'IBRD only' 'Iceland' 'IDA & IBRD total'\n",
      " 'IDA blend' 'IDA only' 'IDA total' 'India' 'Indonesia' 'Iran' 'Iraq'\n",
      " 'Ireland' 'Israel' 'Italy' 'Jamaica' 'Japan' 'Jordan' 'Kazakhstan'\n",
      " 'Kenya' 'Kiribati' 'Korea' 'Kosovo' 'Kuwait' 'Kyrgyz Republic' 'Lao PDR'\n",
      " 'Late-demographic dividend' 'Latin America & Caribbean'\n",
      " 'Latin America & Caribbean (excluding high income)'\n",
      " 'Latin America & Caribbean (IDA & IBRD)' 'Latvia'\n",
      " 'Least developed countries: UN classification' 'Lebanon' 'Lesotho'\n",
      " 'Liberia' 'Libya' 'Lithuania' 'Low & middle income' 'Low income'\n",
      " 'Lower middle income' 'Luxembourg' 'Macao SAR, China' 'Madagascar'\n",
      " 'Malawi' 'Malaysia' 'Maldives' 'Mali' 'Malta' 'Marshall Islands'\n",
      " 'Mauritania' 'Mauritius' 'Mexico' 'Micronesia'\n",
      " 'Middle East & North Africa'\n",
      " 'Middle East & North Africa (excluding high income)'\n",
      " 'Middle East & North Africa (IDA & IBRD)' 'Middle income' 'Moldova'\n",
      " 'Mongolia' 'Montenegro' 'Morocco' 'Mozambique' 'Myanmar' 'Namibia'\n",
      " 'Nauru' 'Nepal' 'Netherlands' 'New Zealand' 'Nicaragua' 'Niger' 'Nigeria'\n",
      " 'North America' 'North Macedonia' 'Norway' 'OECD members' 'Oman'\n",
      " 'Other small states' 'Pacific island small states' 'Pakistan' 'Palau'\n",
      " 'Panama' 'Papua New Guinea' 'Paraguay' 'Peru' 'Philippines' 'Poland'\n",
      " 'Portugal' 'Post-demographic dividend' 'Pre-demographic dividend'\n",
      " 'Puerto Rico' 'Qatar' 'Romania' 'Russia' 'Rwanda'\n",
      " 'SÃ£o TomÃ© and Principe' 'Samoa' 'San Marino' 'Saudi Arabia' 'Senegal'\n",
      " 'Serbia' 'Seychelles' 'Sierra Leone' 'Singapore'\n",
      " 'Sint Maarten (Dutch part)' 'Slovak Republic' 'Slovenia' 'Small states'\n",
      " 'Solomon Islands' 'Somalia' 'South Africa' 'South Asia'\n",
      " 'South Asia (IDA & IBRD)' 'Spain' 'Sri Lanka' 'St. Kitts and Nevis'\n",
      " 'St. Lucia' 'St. Vincent and the Grenadines' 'Sub-Saharan Africa'\n",
      " 'Sub-Saharan Africa (excluding high income)'\n",
      " 'Sub-Saharan Africa (IDA & IBRD)' 'Sudan' 'Suriname' 'Sweden'\n",
      " 'Switzerland' 'Syrian Arab Republic' 'TÃ¼rkiye' 'Tajikistan' 'Tanzania'\n",
      " 'Thailand' 'The Bahamas' 'The Gambia' 'Timor-Leste' 'Togo' 'Tonga'\n",
      " 'Trinidad and Tobago' 'Tunisia' 'Turkmenistan' 'Turks and Caicos Islands'\n",
      " 'Tuvalu' 'Uganda' 'Ukraine' 'United Arab Emirates' 'United Kingdom'\n",
      " 'United States' 'Upper middle income' 'Uruguay' 'Uzbekistan' 'Vanuatu'\n",
      " 'Viet Nam' 'Virgin Islands' 'West Bank and Gaza' 'World' 'Zambia'\n",
      " 'Zimbabwe']\n"
     ]
    }
   ],
   "source": [
    "country_group_list = gdp_df_final['Country'].unique()\n",
    "print(country_group_list)"
   ]
  },
  {
   "cell_type": "markdown",
   "id": "6391fccb-25b4-43fb-97e2-657827627e18",
   "metadata": {},
   "source": [
    "8. In this question, you're going to create some plots to show the distribution of GDP per capita for the year 2020. Go to the Python Graph Gallery (https://www.python-graph-gallery.com/) and look at the different types of plots under the Distribution section. Create a histogram, a density plot, a boxplot, and a violin plot. What do you notice when you look at these plots? How do the plots compare and what information can you get out of one type that you can't necessarily get out of the others?\n"
   ]
  },
  {
   "cell_type": "code",
   "execution_count": 19,
   "id": "ec2d967d-2307-433a-8a58-5e9666078949",
   "metadata": {},
   "outputs": [
    {
     "data": {
      "text/html": [
       "<div>\n",
       "<style scoped>\n",
       "    .dataframe tbody tr th:only-of-type {\n",
       "        vertical-align: middle;\n",
       "    }\n",
       "\n",
       "    .dataframe tbody tr th {\n",
       "        vertical-align: top;\n",
       "    }\n",
       "\n",
       "    .dataframe thead th {\n",
       "        text-align: right;\n",
       "    }\n",
       "</style>\n",
       "<table border=\"1\" class=\"dataframe\">\n",
       "  <thead>\n",
       "    <tr style=\"text-align: right;\">\n",
       "      <th></th>\n",
       "      <th>Country</th>\n",
       "      <th>Year</th>\n",
       "      <th>GDP_Per_Capita</th>\n",
       "    </tr>\n",
       "  </thead>\n",
       "  <tbody>\n",
       "    <tr>\n",
       "      <th>1046</th>\n",
       "      <td>Burundi</td>\n",
       "      <td>2020</td>\n",
       "      <td>833.920257</td>\n",
       "    </tr>\n",
       "    <tr>\n",
       "      <th>1302</th>\n",
       "      <td>Central African Republic</td>\n",
       "      <td>2020</td>\n",
       "      <td>1136.570530</td>\n",
       "    </tr>\n",
       "    <tr>\n",
       "      <th>1734</th>\n",
       "      <td>Dem. Rep. Congo</td>\n",
       "      <td>2020</td>\n",
       "      <td>1277.632863</td>\n",
       "    </tr>\n",
       "    <tr>\n",
       "      <th>6699</th>\n",
       "      <td>Somalia</td>\n",
       "      <td>2020</td>\n",
       "      <td>1396.053436</td>\n",
       "    </tr>\n",
       "    <tr>\n",
       "      <th>5133</th>\n",
       "      <td>Mozambique</td>\n",
       "      <td>2020</td>\n",
       "      <td>1466.124765</td>\n",
       "    </tr>\n",
       "  </tbody>\n",
       "</table>\n",
       "</div>"
      ],
      "text/plain": [
       "                       Country  Year  GDP_Per_Capita\n",
       "1046                   Burundi  2020      833.920257\n",
       "1302  Central African Republic  2020     1136.570530\n",
       "1734           Dem. Rep. Congo  2020     1277.632863\n",
       "6699                   Somalia  2020     1396.053436\n",
       "5133                Mozambique  2020     1466.124765"
      ]
     },
     "execution_count": 19,
     "metadata": {},
     "output_type": "execute_result"
    }
   ],
   "source": [
    "gdp_2020 = gdp_df_final[gdp_df_final['Year'] == 2020].sort_values(by=[\"GDP_Per_Capita\"], ascending=True)\n",
    "gdp_2020.head()"
   ]
  },
  {
   "cell_type": "code",
   "execution_count": 20,
   "id": "f674338b-21e8-4002-a422-3f626f8e037b",
   "metadata": {},
   "outputs": [
    {
     "data": {
      "text/plain": [
       "Text(0.5, 1.0, 'Histogram of GDP Per Capita in 2020')"
      ]
     },
     "execution_count": 20,
     "metadata": {},
     "output_type": "execute_result"
    },
    {
     "data": {
      "image/png": "[encoded data removed]",
      "text/plain": [
       "<Figure size 500x500 with 1 Axes>"
      ]
     },
     "metadata": {},
     "output_type": "display_data"
    }
   ],
   "source": [
    "##histogram with seaborn\n",
    "\n",
    "sns.color_palette('bright')\n",
    "sns.displot(data=gdp_2020, \n",
    "            x='GDP_Per_Capita', \n",
    "            edgecolor='MidnightBlue',\n",
    "            linewidth=0.5,\n",
    "            color=\"LightSkyBlue\",\n",
    "            bins = np.arange(start = 0, stop = 140000, step = 20000))\n",
    "plt.xlabel('GDP per capita')                            \n",
    "plt.ylabel('count')\n",
    "plt.title('Histogram of GDP Per Capita in 2020')"
   ]
  },
  {
   "cell_type": "code",
   "execution_count": 21,
   "id": "1d0dea62-e9c7-454d-bbbc-f304ec5ee985",
   "metadata": {},
   "outputs": [
    {
     "data": {
      "text/plain": [
       "Text(0.5, 1.0, 'Histogram of GDP Per Capita in 2020')"
      ]
     },
     "execution_count": 21,
     "metadata": {},
     "output_type": "execute_result"
    },
    {
     "data": {
      "image/png": "[encoded data removed]",
      "text/plain": [
       "<Figure size 1000x600 with 1 Axes>"
      ]
     },
     "metadata": {},
     "output_type": "display_data"
    }
   ],
   "source": [
    "##histogram with matplotlib\n",
    "\n",
    "fig,ax = plt.subplots(figsize = (10,6))     \n",
    "\n",
    "plt.hist(\n",
    "    data=gdp_2020,\n",
    "    x='GDP_Per_Capita',\n",
    "    edgecolor='MidnightBlue',\n",
    "    linewidth=0.5,\n",
    "    color='LightSkyBlue',\n",
    "    bins = np.arange(start = 0, stop = 150000, step = 10000)\n",
    ");                              \n",
    "plt.xlabel('GDP per capita')                            \n",
    "plt.ylabel('count')\n",
    "plt.title('Histogram of GDP Per Capita in 2020')"
   ]
  },
  {
   "cell_type": "code",
   "execution_count": 22,
   "id": "24a6e114-37a6-4e00-8e89-1593ea1d7c3c",
   "metadata": {},
   "outputs": [
    {
     "data": {
      "text/plain": [
       "Text(0.5, 1.0, 'Density Plot of GDP Per Capita in 2020')"
      ]
     },
     "execution_count": 22,
     "metadata": {},
     "output_type": "execute_result"
    },
    {
     "data": {
      "image/png": "[encoded data removed]",
      "text/plain": [
       "<Figure size 640x480 with 1 Axes>"
      ]
     },
     "metadata": {},
     "output_type": "display_data"
    }
   ],
   "source": [
    "sns.kdeplot(data=gdp_2020['GDP_Per_Capita'], fill=True, color = 'orange')\n",
    "plt.xlabel('GDP per capita')                            \n",
    "plt.ylabel('count')\n",
    "plt.title('Density Plot of GDP Per Capita in 2020')"
   ]
  },
  {
   "cell_type": "code",
   "execution_count": 23,
   "id": "cc07caea-643d-4b6b-a68e-3115be4f1971",
   "metadata": {},
   "outputs": [
    {
     "data": {
      "text/plain": [
       "Text(0.5, 1.0, 'Box Plot of GDP Per Capita in 2020')"
      ]
     },
     "execution_count": 23,
     "metadata": {},
     "output_type": "execute_result"
    },
    {
     "data": {
      "image/png": "[encoded data removed]",
      "text/plain": [
       "<Figure size 640x480 with 1 Axes>"
      ]
     },
     "metadata": {},
     "output_type": "display_data"
    }
   ],
   "source": [
    "##boxplot with seaborn\n",
    "\n",
    "sns.boxplot(x=gdp_2020[\"GDP_Per_Capita\"], color=\"LightGreen\", linecolor=\"LimeGreen\")\n",
    "plt.title('Box Plot of GDP Per Capita in 2020')"
   ]
  },
  {
   "cell_type": "code",
   "execution_count": 24,
   "id": "2d84505f-4d86-4160-bfea-920f6a159778",
   "metadata": {},
   "outputs": [
    {
     "data": {
      "image/png": "[encoded data removed]",
      "text/plain": [
       "<Figure size 640x480 with 1 Axes>"
      ]
     },
     "metadata": {},
     "output_type": "display_data"
    }
   ],
   "source": [
    "##boxplot with matplotlib\n",
    "\n",
    "fig, ax = plt.subplots()\n",
    "gdp_boxplot = plt.boxplot(gdp_2020['GDP_Per_Capita'], patch_artist=True)\n",
    "plt.ylabel('GDP per capita')    \n",
    "plt.title('Box Plot of GDP Per Capita in 2020')\n",
    "plt.setp(gdp_boxplot['boxes'], color=\"LightGreen\")\n",
    "plt.setp(gdp_boxplot['whiskers'], color=\"LimeGreen\")\n",
    "plt.setp(gdp_boxplot['caps'], color=\"LimeGreen\")\n",
    "plt.setp(gdp_boxplot['fliers'], markerfacecolor=\"LightGreen\")\n",
    "plt.setp(gdp_boxplot['medians'], color=\"LimeGreen\")\n",
    "plt.show()"
   ]
  },
  {
   "cell_type": "code",
   "execution_count": 25,
   "id": "082d66d2-baa1-44fb-968d-c8ef24a75ab4",
   "metadata": {},
   "outputs": [
    {
     "data": {
      "text/plain": [
       "<Axes: xlabel='GDP_Per_Capita'>"
      ]
     },
     "execution_count": 25,
     "metadata": {},
     "output_type": "execute_result"
    },
    {
     "data": {
      "image/png": "[encoded data removed]",
      "text/plain": [
       "<Figure size 640x480 with 1 Axes>"
      ]
     },
     "metadata": {},
     "output_type": "display_data"
    }
   ],
   "source": [
    "sns.violinplot(x=gdp_2020[\"GDP_Per_Capita\"], color=\"MediumPurple\", edgecolor='Indigo', linewidth=0.5)"
   ]
  },
  {
   "cell_type": "markdown",
   "id": "62cf9d45-fcd6-4817-996f-a8bf654c4371",
   "metadata": {},
   "source": [
    "9. What was the median GDP per capita value in 2020?"
   ]
  },
  {
   "cell_type": "code",
   "execution_count": 26,
   "id": "51364cae-5a8b-4c44-b29b-5b970dfb61e9",
   "metadata": {},
   "outputs": [
    {
     "data": {
      "text/plain": [
       "15309.23598817024"
      ]
     },
     "execution_count": 26,
     "metadata": {},
     "output_type": "execute_result"
    }
   ],
   "source": [
    "gdp_2020[\"GDP_Per_Capita\"].median()"
   ]
  },
  {
   "cell_type": "markdown",
   "id": "e8514af1-3775-45ed-81bc-8ddc4f0aa54e",
   "metadata": {},
   "source": [
    "10. For this question, you're going to create some visualizations to compare GDP per capita values for the years 1990, 2000, 2010, and 2020. Start by subsetting your data to just these 4 years into a new DataFrame named gdp_decades. Using this, create the following 4 plots:\n",
    "\t* A boxplot\n",
    "\t* A barplot (check out the Barplot with Seaborn section: https://www.python-graph-gallery.com/barplot/#Seaborn)\n",
    "\t* A scatterplot\n",
    "\t* A scatterplot with a trend line overlaid (see this regplot example: https://www.python-graph-gallery.com/42-custom-linear-regression-fit-seaborn)  \n",
    "Comment on what you observe has happened to GDP values over time and the relative strengths and weaknesses of each type of plot."
   ]
  },
  {
   "cell_type": "code",
   "execution_count": 27,
   "id": "c61785de-c634-4593-a517-337a6424b01b",
   "metadata": {},
   "outputs": [
    {
     "name": "stdout",
     "output_type": "stream",
     "text": [
      "                         Country  Year  GDP_Per_Capita\n",
      "0    Africa Eastern and Southern  1990     3386.854480\n",
      "1     Africa Western and Central  1990     3299.401375\n",
      "2                        Albania  1990     5327.747458\n",
      "3                        Algeria  1990    11728.545729\n",
      "4                        Andorra  1990    50036.300776\n",
      "..                           ...   ...             ...\n",
      "960               Virgin Islands  2020    45055.782930\n",
      "961           West Bank and Gaza  2020     5423.682547\n",
      "962                        World  2020    18600.986362\n",
      "963                       Zambia  2020     3391.595412\n",
      "964                     Zimbabwe  2020     2987.269823\n",
      "\n",
      "[965 rows x 3 columns]\n"
     ]
    }
   ],
   "source": [
    "gdp_1990 = gdp_df_final[gdp_df_final['Year'] == 1990]\n",
    "gdp_2000 = gdp_df_final[gdp_df_final['Year'] == 2000]\n",
    "gdp_2010 = gdp_df_final[gdp_df_final['Year'] == 2010]\n",
    "gdp_2020 = gdp_df_final[gdp_df_final['Year'] == 2020]\n",
    "gdp_decades = pd.concat([gdp_1990, gdp_2000, gdp_2010, gdp_2020], ignore_index=True)\n",
    "print(gdp_decades)"
   ]
  },
  {
   "cell_type": "code",
   "execution_count": 28,
   "id": "8f2fb406-391f-496d-8fac-84b59f5f7452",
   "metadata": {},
   "outputs": [
    {
     "data": {
      "text/plain": [
       "<matplotlib.legend.Legend at 0x16095aae2a0>"
      ]
     },
     "execution_count": 28,
     "metadata": {},
     "output_type": "execute_result"
    },
    {
     "data": {
      "image/png": "[encoded data removed]",
      "text/plain": [
       "<Figure size 640x480 with 1 Axes>"
      ]
     },
     "metadata": {},
     "output_type": "display_data"
    }
   ],
   "source": [
    "sns.boxplot(x='Year', y='GDP_Per_Capita', hue='Year', data=gdp_decades, palette='gist_rainbow')\n",
    "plt.title('Box Plot of GDP Per Capita')\n",
    "plt.legend(bbox_to_anchor=(1.05, 1), loc='upper left')"
   ]
  },
  {
   "cell_type": "code",
   "execution_count": 29,
   "id": "90962c09-6432-4146-a82b-0e7aa7bf4237",
   "metadata": {},
   "outputs": [
    {
     "data": {
      "text/plain": [
       "<Axes: xlabel='Year', ylabel='GDP_Per_Capita'>"
      ]
     },
     "execution_count": 29,
     "metadata": {},
     "output_type": "execute_result"
    },
    {
     "data": {
      "image/png": "[encoded data removed]",
      "text/plain": [
       "<Figure size 640x480 with 1 Axes>"
      ]
     },
     "metadata": {},
     "output_type": "display_data"
    }
   ],
   "source": [
    "gdp_decades.plot.scatter(x='Year', y='GDP_Per_Capita')"
   ]
  },
  {
   "cell_type": "markdown",
   "id": "12264ef2-0470-4958-999e-0094ad5e3978",
   "metadata": {},
   "source": [
    "11. Which country was the first to have a GDP per capita greater than $100,000?"
   ]
  },
  {
   "cell_type": "markdown",
   "id": "c2b209ec-c11e-4a48-aa4a-55b7c297cc48",
   "metadata": {},
   "source": [
    "A: United Arab Emirates in 1997"
   ]
  },
  {
   "cell_type": "code",
   "execution_count": 30,
   "id": "d988c790-3b38-4e72-84b5-99fbfea33660",
   "metadata": {},
   "outputs": [
    {
     "name": "stdout",
     "output_type": "stream",
     "text": [
      "                   Country  Year  GDP_Per_Capita\n",
      "7820  United Arab Emirates  1997   100310.446245\n"
     ]
    }
   ],
   "source": [
    "gdp_sorted = gdp_df_final.sort_values(by=[\"GDP_Per_Capita\"], ascending=True)\n",
    "gdp_sorted_min = gdp_sorted[gdp_sorted['GDP_Per_Capita'] > 100000]\n",
    "print(gdp_sorted_min.head(1))"
   ]
  },
  {
   "cell_type": "markdown",
   "id": "962ed98e-2d83-4c5e-b1d8-caa7bf62892b",
   "metadata": {},
   "source": [
    "12. Which country had the highest GDP per capita in 2020? Create a plot showing how this country's GDP per capita has changed over the timespan of the dataset."
   ]
  },
  {
   "cell_type": "markdown",
   "id": "c33711ee-d84c-462d-8c67-b67196b38d29",
   "metadata": {},
   "source": [
    "A. Luxembourg with $128.256.56"
   ]
  },
  {
   "cell_type": "code",
   "execution_count": 31,
   "id": "d381dbe6-cd17-4762-a2e1-0cfddec6a495",
   "metadata": {},
   "outputs": [
    {
     "name": "stdout",
     "output_type": "stream",
     "text": [
      "         Country  Year  GDP_Per_Capita\n",
      "4426  Luxembourg  2020   128256.560341\n"
     ]
    }
   ],
   "source": [
    "gdp_max_2020 = gdp_df_final[gdp_df_final['Year'] == 2020].sort_values(by=[\"GDP_Per_Capita\"], ascending=False)\n",
    "print(gdp_max_2020.head(1))"
   ]
  },
  {
   "cell_type": "code",
   "execution_count": 32,
   "id": "3e68f60c-d380-4a8a-9740-a7e839a67a94",
   "metadata": {},
   "outputs": [
    {
     "data": {
      "text/plain": [
       "Text(0.5, 1.0, 'Luxembourg GDP per capita Over Time')"
      ]
     },
     "execution_count": 32,
     "metadata": {},
     "output_type": "execute_result"
    },
    {
     "data": {
      "image/png": "[encoded data removed]",
      "text/plain": [
       "<Figure size 640x480 with 1 Axes>"
      ]
     },
     "metadata": {},
     "output_type": "display_data"
    }
   ],
   "source": [
    "gdp_Lux = gdp_df_final[gdp_df_final[\"Country\"] == \"Luxembourg\"]\n",
    "plt.plot( 'Year', 'GDP_Per_Capita', data=gdp_Lux)\n",
    "plt.xlabel('Year')                            \n",
    "plt.ylabel('GDP per capita')\n",
    "plt.title('Luxembourg GDP per capita Over Time')"
   ]
  },
  {
   "cell_type": "markdown",
   "id": "16787880-d06d-4005-ac4e-ba3c3a77add0",
   "metadata": {},
   "source": [
    "13. Which country had the lowest GDP per capita in 2020? Create a plot showing how this country's GDP per capita has changed over the timespan of the dataset. "
   ]
  },
  {
   "cell_type": "code",
   "execution_count": 33,
   "id": "781badb3-0f4a-4e9d-9301-3c6bf545afad",
   "metadata": {},
   "outputs": [
    {
     "name": "stdout",
     "output_type": "stream",
     "text": [
      "      Country  Year  GDP_Per_Capita\n",
      "1046  Burundi  2020      833.920257\n"
     ]
    }
   ],
   "source": [
    "gdp_min_2020 = gdp_df_final[gdp_df_final['Year'] == 2020].sort_values(by=[\"GDP_Per_Capita\"], ascending=True)\n",
    "print(gdp_min_2020.head(1))"
   ]
  },
  {
   "cell_type": "code",
   "execution_count": 34,
   "id": "cd006cac-4be0-4c99-833b-d464be044616",
   "metadata": {},
   "outputs": [
    {
     "data": {
      "text/plain": [
       "Text(0.5, 1.0, 'Burundi GDP per capita Over Time')"
      ]
     },
     "execution_count": 34,
     "metadata": {},
     "output_type": "execute_result"
    },
    {
     "data": {
      "image/png": "[encoded data removed]",
      "text/plain": [
       "<Figure size 640x480 with 1 Axes>"
      ]
     },
     "metadata": {},
     "output_type": "display_data"
    }
   ],
   "source": [
    "gdp_Lux = gdp_df_final[gdp_df_final[\"Country\"] == \"Burundi\"]\n",
    "plt.plot( 'Year', 'GDP_Per_Capita', data=gdp_Lux)\n",
    "plt.xlabel('Year')                            \n",
    "plt.ylabel('GDP per capita')\n",
    "plt.title('Burundi GDP per capita Over Time')"
   ]
  },
  {
   "cell_type": "markdown",
   "id": "3eef8c17-b0b3-4599-9f6f-838378d65e04",
   "metadata": {},
   "source": [
    "**Bonus question:** Is it true in general that coutries had a higher GDP per capita in 2020 than in 1990? Which countries had lower GDP per capita in 2020 than in 1990?\n",
    "\n",
    "A: In general, yes. 24 countries and regions had a lower GDP per capita in 2020 than in 1990."
   ]
  },
  {
   "cell_type": "code",
   "execution_count": 35,
   "id": "a9d1c3fe-3455-4adc-955a-3deaad2f1618",
   "metadata": {},
   "outputs": [
    {
     "name": "stdout",
     "output_type": "stream",
     "text": [
      "                                      Country  Year_x  GDP_Per_Capita_x  \\\n",
      "10                                      Aruba    1990      34579.220640   \n",
      "16                                   Barbados    1990      16976.761648   \n",
      "27                                     Brunei    1990     118163.683198   \n",
      "30                                    Burundi    1990       1396.077627   \n",
      "36                   Central African Republic    1990       1481.252551   \n",
      "43                                      Congo    1990       8699.526839   \n",
      "49                            Dem. Rep. Congo    1990       2172.001597   \n",
      "71   Fragile and conflict affected situations    1990       6062.707946   \n",
      "73                                      Gabon    1990      23884.810700   \n",
      "84                                      Haiti    1990       3946.365646   \n",
      "111                           Kyrgyz Republic    1990       6095.681086   \n",
      "121                                   Liberia    1990       1866.405481   \n",
      "122                                     Libya    1990      18121.815655   \n",
      "129                                Madagascar    1990       1975.146568   \n",
      "144                                   Moldova    1990      15902.894323   \n",
      "150                                     Nauru    1990      30546.301797   \n",
      "181                              Saudi Arabia    1990      60101.575626   \n",
      "196                                 St. Lucia    1990      17222.000972   \n",
      "205                      Syrian Arab Republic    1990       5828.405516   \n",
      "207                                Tajikistan    1990       4173.046080   \n",
      "210                               The Bahamas    1990      33062.545904   \n",
      "221                                   Ukraine    1990      22815.798828   \n",
      "222                      United Arab Emirates    1990     108057.042464   \n",
      "232                                  Zimbabwe    1990       4013.299059   \n",
      "\n",
      "     Year_y  GDP_Per_Capita_y  GDP_difference  \n",
      "10     2020      28521.688852    -6057.531788  \n",
      "16     2020      15749.038017    -1227.723631  \n",
      "27     2020      80280.897948   -37882.785250  \n",
      "30     2020        833.920257     -562.157369  \n",
      "36     2020       1136.570530     -344.682021  \n",
      "43     2020       6350.509134    -2349.017705  \n",
      "49     2020       1277.632863     -894.368734  \n",
      "71     2020       5271.014406     -791.693539  \n",
      "73     2020      18681.484074    -5203.326626  \n",
      "84     2020       3229.475544     -716.890102  \n",
      "111    2020       5537.795885     -557.885201  \n",
      "121    2020       1497.376924     -369.028557  \n",
      "122    2020       9976.037403    -8145.778252  \n",
      "129    2020       1551.125580     -424.020989  \n",
      "144    2020      13559.260022    -2343.634301  \n",
      "150    2020      11441.258450   -19105.043347  \n",
      "181    2020      51782.568653    -8319.006973  \n",
      "196    2020      17141.938071      -80.062901  \n",
      "205    2020       4633.349518    -1195.055998  \n",
      "207    2020       3724.748959     -448.297121  \n",
      "210    2020      25457.080388    -7605.465516  \n",
      "221    2020      17092.539062    -5723.259766  \n",
      "222    2020      65784.676939   -42272.365525  \n",
      "232    2020       2987.269823    -1026.029236  \n"
     ]
    }
   ],
   "source": [
    "gdp_1990_list = gdp_df_final[gdp_df_final['Year'] == 1990].sort_values(by=[\"Country\"], ascending=True)\n",
    "gdp_2020_list = gdp_df_final[gdp_df_final['Year'] == 2020].sort_values(by=[\"Country\"], ascending=True)\n",
    "gdp_merge = pd.merge(gdp_1990_list, gdp_2020_list, on=\"Country\", how='left')\n",
    "gdp_merge[\"GDP_difference\"] = gdp_merge[\"GDP_Per_Capita_y\"] - gdp_merge[\"GDP_Per_Capita_x\"]\n",
    "gdp_merge_neg = gdp_merge[gdp_merge['GDP_difference'] < 0]\n",
    "print(gdp_merge_neg)"
   ]
  },
  {
   "cell_type": "markdown",
   "id": "43125ef4-1a08-4622-9705-5d77b05c7643",
   "metadata": {},
   "source": [
    "14. Read in the internet use dataset into a DataFrame named `internet_df`. You will likely get errors when doing this. Check the arguments for the read_csv function to find ones that can help correct the errors (https://pandas.pydata.org/docs/reference/api/pandas.read_csv.html) Once you are able to read it in, take per a look at the top and bottom few rows to make sure that it has been read in correctly. Also, check the datatypes of the columns.\n"
   ]
  },
  {
   "cell_type": "code",
   "execution_count": 36,
   "id": "99ef5eaf-fb8c-4942-b58d-f78a0d885591",
   "metadata": {},
   "outputs": [
    {
     "name": "stdout",
     "output_type": "stream",
     "text": [
      "<class 'pandas.core.frame.DataFrame'>\n",
      "RangeIndex: 6083 entries, 0 to 6082\n",
      "Data columns (total 4 columns):\n",
      " #   Column           Non-Null Count  Dtype  \n",
      "---  ------           --------------  -----  \n",
      " 0   Country or Area  6083 non-null   object \n",
      " 1   Year             6083 non-null   int64  \n",
      " 2   Value            6083 non-null   float64\n",
      " 3   Value Footnotes  2826 non-null   object \n",
      "dtypes: float64(1), int64(1), object(2)\n",
      "memory usage: 190.2+ KB\n"
     ]
    }
   ],
   "source": [
    "internet_df = pd.read_csv('../data/internet_use.csv', nrows=6083)\n",
    "internet_df.info()"
   ]
  },
  {
   "cell_type": "code",
   "execution_count": 37,
   "id": "99d07d5b-054f-4239-880d-5d2c7cca3c47",
   "metadata": {},
   "outputs": [
    {
     "data": {
      "text/html": [
       "<div>\n",
       "<style scoped>\n",
       "    .dataframe tbody tr th:only-of-type {\n",
       "        vertical-align: middle;\n",
       "    }\n",
       "\n",
       "    .dataframe tbody tr th {\n",
       "        vertical-align: top;\n",
       "    }\n",
       "\n",
       "    .dataframe thead th {\n",
       "        text-align: right;\n",
       "    }\n",
       "</style>\n",
       "<table border=\"1\" class=\"dataframe\">\n",
       "  <thead>\n",
       "    <tr style=\"text-align: right;\">\n",
       "      <th></th>\n",
       "      <th>Country or Area</th>\n",
       "      <th>Year</th>\n",
       "      <th>Value</th>\n",
       "      <th>Value Footnotes</th>\n",
       "    </tr>\n",
       "  </thead>\n",
       "  <tbody>\n",
       "    <tr>\n",
       "      <th>0</th>\n",
       "      <td>Afghanistan</td>\n",
       "      <td>2019</td>\n",
       "      <td>17.60</td>\n",
       "      <td>1</td>\n",
       "    </tr>\n",
       "    <tr>\n",
       "      <th>1</th>\n",
       "      <td>Afghanistan</td>\n",
       "      <td>2018</td>\n",
       "      <td>16.80</td>\n",
       "      <td>2</td>\n",
       "    </tr>\n",
       "    <tr>\n",
       "      <th>2</th>\n",
       "      <td>Afghanistan</td>\n",
       "      <td>2017</td>\n",
       "      <td>13.50</td>\n",
       "      <td>3</td>\n",
       "    </tr>\n",
       "    <tr>\n",
       "      <th>3</th>\n",
       "      <td>Afghanistan</td>\n",
       "      <td>2016</td>\n",
       "      <td>11.00</td>\n",
       "      <td>4</td>\n",
       "    </tr>\n",
       "    <tr>\n",
       "      <th>4</th>\n",
       "      <td>Afghanistan</td>\n",
       "      <td>2015</td>\n",
       "      <td>8.26</td>\n",
       "      <td>4</td>\n",
       "    </tr>\n",
       "  </tbody>\n",
       "</table>\n",
       "</div>"
      ],
      "text/plain": [
       "  Country or Area  Year  Value Value Footnotes\n",
       "0     Afghanistan  2019  17.60               1\n",
       "1     Afghanistan  2018  16.80               2\n",
       "2     Afghanistan  2017  13.50               3\n",
       "3     Afghanistan  2016  11.00               4\n",
       "4     Afghanistan  2015   8.26               4"
      ]
     },
     "execution_count": 37,
     "metadata": {},
     "output_type": "execute_result"
    }
   ],
   "source": [
    "internet_df.head()"
   ]
  },
  {
   "cell_type": "code",
   "execution_count": 38,
   "id": "3762053b-221f-44a7-8ebd-25b96d2b7611",
   "metadata": {},
   "outputs": [
    {
     "data": {
      "text/html": [
       "<div>\n",
       "<style scoped>\n",
       "    .dataframe tbody tr th:only-of-type {\n",
       "        vertical-align: middle;\n",
       "    }\n",
       "\n",
       "    .dataframe tbody tr th {\n",
       "        vertical-align: top;\n",
       "    }\n",
       "\n",
       "    .dataframe thead th {\n",
       "        text-align: right;\n",
       "    }\n",
       "</style>\n",
       "<table border=\"1\" class=\"dataframe\">\n",
       "  <thead>\n",
       "    <tr style=\"text-align: right;\">\n",
       "      <th></th>\n",
       "      <th>Country or Area</th>\n",
       "      <th>Year</th>\n",
       "      <th>Value</th>\n",
       "      <th>Value Footnotes</th>\n",
       "    </tr>\n",
       "  </thead>\n",
       "  <tbody>\n",
       "    <tr>\n",
       "      <th>6078</th>\n",
       "      <td>Zimbabwe</td>\n",
       "      <td>1997</td>\n",
       "      <td>0.033080</td>\n",
       "      <td>NaN</td>\n",
       "    </tr>\n",
       "    <tr>\n",
       "      <th>6079</th>\n",
       "      <td>Zimbabwe</td>\n",
       "      <td>1996</td>\n",
       "      <td>0.016790</td>\n",
       "      <td>NaN</td>\n",
       "    </tr>\n",
       "    <tr>\n",
       "      <th>6080</th>\n",
       "      <td>Zimbabwe</td>\n",
       "      <td>1995</td>\n",
       "      <td>0.007684</td>\n",
       "      <td>NaN</td>\n",
       "    </tr>\n",
       "    <tr>\n",
       "      <th>6081</th>\n",
       "      <td>Zimbabwe</td>\n",
       "      <td>1994</td>\n",
       "      <td>0.001739</td>\n",
       "      <td>NaN</td>\n",
       "    </tr>\n",
       "    <tr>\n",
       "      <th>6082</th>\n",
       "      <td>Zimbabwe</td>\n",
       "      <td>1990</td>\n",
       "      <td>0.000000</td>\n",
       "      <td>NaN</td>\n",
       "    </tr>\n",
       "  </tbody>\n",
       "</table>\n",
       "</div>"
      ],
      "text/plain": [
       "     Country or Area  Year     Value Value Footnotes\n",
       "6078        Zimbabwe  1997  0.033080             NaN\n",
       "6079        Zimbabwe  1996  0.016790             NaN\n",
       "6080        Zimbabwe  1995  0.007684             NaN\n",
       "6081        Zimbabwe  1994  0.001739             NaN\n",
       "6082        Zimbabwe  1990  0.000000             NaN"
      ]
     },
     "execution_count": 38,
     "metadata": {},
     "output_type": "execute_result"
    }
   ],
   "source": [
    "internet_df.tail()"
   ]
  },
  {
   "cell_type": "markdown",
   "id": "9776842d-878c-44e3-85ec-64cd8f182e90",
   "metadata": {},
   "source": [
    "15. Drop the `Value Footnotes` column and rename the remaining three to 'Country', 'Year', and 'Internet_Users_Pct'."
   ]
  },
  {
   "cell_type": "code",
   "execution_count": 39,
   "id": "540faac0-f715-428c-889b-10671c1685fd",
   "metadata": {},
   "outputs": [
    {
     "data": {
      "text/html": [
       "<div>\n",
       "<style scoped>\n",
       "    .dataframe tbody tr th:only-of-type {\n",
       "        vertical-align: middle;\n",
       "    }\n",
       "\n",
       "    .dataframe tbody tr th {\n",
       "        vertical-align: top;\n",
       "    }\n",
       "\n",
       "    .dataframe thead th {\n",
       "        text-align: right;\n",
       "    }\n",
       "</style>\n",
       "<table border=\"1\" class=\"dataframe\">\n",
       "  <thead>\n",
       "    <tr style=\"text-align: right;\">\n",
       "      <th></th>\n",
       "      <th>Country</th>\n",
       "      <th>Year</th>\n",
       "      <th>Internet_Users_Pct</th>\n",
       "    </tr>\n",
       "  </thead>\n",
       "  <tbody>\n",
       "    <tr>\n",
       "      <th>0</th>\n",
       "      <td>Afghanistan</td>\n",
       "      <td>2019</td>\n",
       "      <td>17.60</td>\n",
       "    </tr>\n",
       "    <tr>\n",
       "      <th>1</th>\n",
       "      <td>Afghanistan</td>\n",
       "      <td>2018</td>\n",
       "      <td>16.80</td>\n",
       "    </tr>\n",
       "    <tr>\n",
       "      <th>2</th>\n",
       "      <td>Afghanistan</td>\n",
       "      <td>2017</td>\n",
       "      <td>13.50</td>\n",
       "    </tr>\n",
       "    <tr>\n",
       "      <th>3</th>\n",
       "      <td>Afghanistan</td>\n",
       "      <td>2016</td>\n",
       "      <td>11.00</td>\n",
       "    </tr>\n",
       "    <tr>\n",
       "      <th>4</th>\n",
       "      <td>Afghanistan</td>\n",
       "      <td>2015</td>\n",
       "      <td>8.26</td>\n",
       "    </tr>\n",
       "  </tbody>\n",
       "</table>\n",
       "</div>"
      ],
      "text/plain": [
       "       Country  Year  Internet_Users_Pct\n",
       "0  Afghanistan  2019               17.60\n",
       "1  Afghanistan  2018               16.80\n",
       "2  Afghanistan  2017               13.50\n",
       "3  Afghanistan  2016               11.00\n",
       "4  Afghanistan  2015                8.26"
      ]
     },
     "execution_count": 39,
     "metadata": {},
     "output_type": "execute_result"
    }
   ],
   "source": [
    "internet_df_drop = internet_df.drop('Value Footnotes', axis = 1)\n",
    "internet_df_final = internet_df_drop.rename(columns={'Country or Area': 'Country', 'Value': 'Internet_Users_Pct'})\n",
    "internet_df_final.head()"
   ]
  },
  {
   "cell_type": "markdown",
   "id": "1ebafc84-0f25-4211-a490-6ca2a3c646e5",
   "metadata": {},
   "source": [
    "16. Look at the number of observations in this dataset per year. What do you notice?"
   ]
  },
  {
   "cell_type": "markdown",
   "id": "b4e08614-1144-4299-a86b-290b0cd27df7",
   "metadata": {},
   "source": [
    "A: 1990 appears to be a baseline data point with observation numbers of internet use for all countries. Then beginning in 1991 internet use grows through 2002 and remains relatively stable until 2018 before declining below 200 for the remaining years."
   ]
  },
  {
   "cell_type": "code",
   "execution_count": 40,
   "id": "73708f04-5b49-4133-83da-9adb126bd3a3",
   "metadata": {},
   "outputs": [
    {
     "data": {
      "text/html": [
       "<div>\n",
       "<style scoped>\n",
       "    .dataframe tbody tr th:only-of-type {\n",
       "        vertical-align: middle;\n",
       "    }\n",
       "\n",
       "    .dataframe tbody tr th {\n",
       "        vertical-align: top;\n",
       "    }\n",
       "\n",
       "    .dataframe thead th {\n",
       "        text-align: right;\n",
       "    }\n",
       "</style>\n",
       "<table border=\"1\" class=\"dataframe\">\n",
       "  <thead>\n",
       "    <tr style=\"text-align: right;\">\n",
       "      <th></th>\n",
       "      <th>Country</th>\n",
       "      <th>Internet_Users_Pct</th>\n",
       "    </tr>\n",
       "    <tr>\n",
       "      <th>Year</th>\n",
       "      <th></th>\n",
       "      <th></th>\n",
       "    </tr>\n",
       "  </thead>\n",
       "  <tbody>\n",
       "    <tr>\n",
       "      <th>1990</th>\n",
       "      <td>226</td>\n",
       "      <td>226</td>\n",
       "    </tr>\n",
       "    <tr>\n",
       "      <th>1991</th>\n",
       "      <td>39</td>\n",
       "      <td>39</td>\n",
       "    </tr>\n",
       "    <tr>\n",
       "      <th>1992</th>\n",
       "      <td>50</td>\n",
       "      <td>50</td>\n",
       "    </tr>\n",
       "    <tr>\n",
       "      <th>1993</th>\n",
       "      <td>66</td>\n",
       "      <td>66</td>\n",
       "    </tr>\n",
       "    <tr>\n",
       "      <th>1994</th>\n",
       "      <td>92</td>\n",
       "      <td>92</td>\n",
       "    </tr>\n",
       "    <tr>\n",
       "      <th>1995</th>\n",
       "      <td>141</td>\n",
       "      <td>141</td>\n",
       "    </tr>\n",
       "    <tr>\n",
       "      <th>1996</th>\n",
       "      <td>177</td>\n",
       "      <td>177</td>\n",
       "    </tr>\n",
       "    <tr>\n",
       "      <th>1997</th>\n",
       "      <td>188</td>\n",
       "      <td>188</td>\n",
       "    </tr>\n",
       "    <tr>\n",
       "      <th>1998</th>\n",
       "      <td>195</td>\n",
       "      <td>195</td>\n",
       "    </tr>\n",
       "    <tr>\n",
       "      <th>1999</th>\n",
       "      <td>207</td>\n",
       "      <td>207</td>\n",
       "    </tr>\n",
       "    <tr>\n",
       "      <th>2000</th>\n",
       "      <td>210</td>\n",
       "      <td>210</td>\n",
       "    </tr>\n",
       "    <tr>\n",
       "      <th>2001</th>\n",
       "      <td>212</td>\n",
       "      <td>212</td>\n",
       "    </tr>\n",
       "    <tr>\n",
       "      <th>2002</th>\n",
       "      <td>214</td>\n",
       "      <td>214</td>\n",
       "    </tr>\n",
       "    <tr>\n",
       "      <th>2003</th>\n",
       "      <td>208</td>\n",
       "      <td>208</td>\n",
       "    </tr>\n",
       "    <tr>\n",
       "      <th>2004</th>\n",
       "      <td>210</td>\n",
       "      <td>210</td>\n",
       "    </tr>\n",
       "    <tr>\n",
       "      <th>2005</th>\n",
       "      <td>212</td>\n",
       "      <td>212</td>\n",
       "    </tr>\n",
       "    <tr>\n",
       "      <th>2006</th>\n",
       "      <td>212</td>\n",
       "      <td>212</td>\n",
       "    </tr>\n",
       "    <tr>\n",
       "      <th>2007</th>\n",
       "      <td>217</td>\n",
       "      <td>217</td>\n",
       "    </tr>\n",
       "    <tr>\n",
       "      <th>2008</th>\n",
       "      <td>214</td>\n",
       "      <td>214</td>\n",
       "    </tr>\n",
       "    <tr>\n",
       "      <th>2009</th>\n",
       "      <td>214</td>\n",
       "      <td>214</td>\n",
       "    </tr>\n",
       "    <tr>\n",
       "      <th>2010</th>\n",
       "      <td>209</td>\n",
       "      <td>209</td>\n",
       "    </tr>\n",
       "    <tr>\n",
       "      <th>2011</th>\n",
       "      <td>214</td>\n",
       "      <td>214</td>\n",
       "    </tr>\n",
       "    <tr>\n",
       "      <th>2012</th>\n",
       "      <td>209</td>\n",
       "      <td>209</td>\n",
       "    </tr>\n",
       "    <tr>\n",
       "      <th>2013</th>\n",
       "      <td>203</td>\n",
       "      <td>203</td>\n",
       "    </tr>\n",
       "    <tr>\n",
       "      <th>2014</th>\n",
       "      <td>204</td>\n",
       "      <td>204</td>\n",
       "    </tr>\n",
       "    <tr>\n",
       "      <th>2015</th>\n",
       "      <td>203</td>\n",
       "      <td>203</td>\n",
       "    </tr>\n",
       "    <tr>\n",
       "      <th>2016</th>\n",
       "      <td>206</td>\n",
       "      <td>206</td>\n",
       "    </tr>\n",
       "    <tr>\n",
       "      <th>2017</th>\n",
       "      <td>205</td>\n",
       "      <td>205</td>\n",
       "    </tr>\n",
       "    <tr>\n",
       "      <th>2018</th>\n",
       "      <td>174</td>\n",
       "      <td>174</td>\n",
       "    </tr>\n",
       "    <tr>\n",
       "      <th>2019</th>\n",
       "      <td>185</td>\n",
       "      <td>185</td>\n",
       "    </tr>\n",
       "    <tr>\n",
       "      <th>2020</th>\n",
       "      <td>186</td>\n",
       "      <td>186</td>\n",
       "    </tr>\n",
       "    <tr>\n",
       "      <th>2021</th>\n",
       "      <td>186</td>\n",
       "      <td>186</td>\n",
       "    </tr>\n",
       "    <tr>\n",
       "      <th>2022</th>\n",
       "      <td>184</td>\n",
       "      <td>184</td>\n",
       "    </tr>\n",
       "    <tr>\n",
       "      <th>2023</th>\n",
       "      <td>11</td>\n",
       "      <td>11</td>\n",
       "    </tr>\n",
       "  </tbody>\n",
       "</table>\n",
       "</div>"
      ],
      "text/plain": [
       "      Country  Internet_Users_Pct\n",
       "Year                             \n",
       "1990      226                 226\n",
       "1991       39                  39\n",
       "1992       50                  50\n",
       "1993       66                  66\n",
       "1994       92                  92\n",
       "1995      141                 141\n",
       "1996      177                 177\n",
       "1997      188                 188\n",
       "1998      195                 195\n",
       "1999      207                 207\n",
       "2000      210                 210\n",
       "2001      212                 212\n",
       "2002      214                 214\n",
       "2003      208                 208\n",
       "2004      210                 210\n",
       "2005      212                 212\n",
       "2006      212                 212\n",
       "2007      217                 217\n",
       "2008      214                 214\n",
       "2009      214                 214\n",
       "2010      209                 209\n",
       "2011      214                 214\n",
       "2012      209                 209\n",
       "2013      203                 203\n",
       "2014      204                 204\n",
       "2015      203                 203\n",
       "2016      206                 206\n",
       "2017      205                 205\n",
       "2018      174                 174\n",
       "2019      185                 185\n",
       "2020      186                 186\n",
       "2021      186                 186\n",
       "2022      184                 184\n",
       "2023       11                  11"
      ]
     },
     "metadata": {},
     "output_type": "display_data"
    }
   ],
   "source": [
    "internet_year_group = internet_df_final.groupby('Year').count()\n",
    "display(internet_year_group)"
   ]
  },
  {
   "cell_type": "markdown",
   "id": "36f56064-1004-43fa-afe8-6745f293f8cc",
   "metadata": {},
   "source": [
    "17. What is the first year to have a non-zero internet users percentage value?\n",
    "\n",
    "A: 1990"
   ]
  },
  {
   "cell_type": "code",
   "execution_count": 41,
   "id": "bba5afe0-468a-4b58-90d4-927c10f42ede",
   "metadata": {},
   "outputs": [
    {
     "name": "stdout",
     "output_type": "stream",
     "text": [
      "                     Country  Year  Internet_Users_Pct\n",
      "1570                 Denmark  1990            0.097277\n",
      "2892                   Japan  1990            0.020294\n",
      "306                Australia  1990            0.585095\n",
      "2034                  France  1990            0.052778\n",
      "339                  Austria  1990            0.130369\n",
      "...                      ...   ...                 ...\n",
      "427               Bangladesh  2023           44.502700\n",
      "677   Bosnia and Herzegovina  2023           83.377200\n",
      "1656                 Ecuador  2023           72.694300\n",
      "1537                 Denmark  2023           98.775600\n",
      "3057                  Kuwait  2023           99.747300\n",
      "\n",
      "[5803 rows x 3 columns]\n"
     ]
    }
   ],
   "source": [
    "internet_nonzero = internet_df_final[internet_df_final[\"Internet_Users_Pct\"] != 0].sort_values(by=[\"Year\"], ascending=True)\n",
    "print(internet_nonzero)"
   ]
  },
  {
   "cell_type": "markdown",
   "id": "ab6558bb-55f3-48c4-8eb5-2fc72a04781d",
   "metadata": {},
   "source": [
    "18. How does the distribution of internet users percent differ for 2000 and 2014?"
   ]
  },
  {
   "cell_type": "code",
   "execution_count": 42,
   "id": "6b7c589d-8276-439d-b52e-325e1ab43a69",
   "metadata": {},
   "outputs": [
    {
     "data": {
      "text/plain": [
       "<matplotlib.legend.Legend at 0x16097add370>"
      ]
     },
     "execution_count": 42,
     "metadata": {},
     "output_type": "execute_result"
    },
    {
     "data": {
      "image/png": "[encoded data removed]",
      "text/plain": [
       "<Figure size 640x480 with 1 Axes>"
      ]
     },
     "metadata": {},
     "output_type": "display_data"
    }
   ],
   "source": [
    "internet_2000 = internet_df_final[internet_df_final['Year'] == 2000]\n",
    "internet_2014 = internet_df_final[internet_df_final['Year'] == 2014]\n",
    "internet_2000_2014 = pd.concat([internet_2000, internet_2014], ignore_index=True)\n",
    "sns.boxplot(x='Year', y='Internet_Users_Pct', hue='Year', data=internet_2000_2014, palette='gist_rainbow')\n",
    "plt.title('Box Plot of Pct Internet Users')\n",
    "plt.legend(bbox_to_anchor=(1.05, 1), loc='upper left')"
   ]
  },
  {
   "cell_type": "markdown",
   "id": "6ea0075f-6435-423f-8672-f44c5df473b9",
   "metadata": {},
   "source": [
    "19. For how many countries was the percentage of internet users below 5% in 2014?\n",
    "\n",
    " A: 10"
   ]
  },
  {
   "cell_type": "code",
   "execution_count": 43,
   "id": "236d9aca-434c-4f4d-9870-8360e296ce85",
   "metadata": {},
   "outputs": [
    {
     "name": "stdout",
     "output_type": "stream",
     "text": [
      "                               Country  Year  Internet_Users_Pct\n",
      "873                            Burundi  2014             1.04239\n",
      "1033          Central African Republic  2014             2.70000\n",
      "1061                              Chad  2014             2.90000\n",
      "1517  Democratic Republic of the Congo  2014             3.00000\n",
      "1782                           Eritrea  2014             0.99000\n",
      "2451                     Guinea-Bissau  2014             3.32000\n",
      "3364                        Madagascar  2014             3.70000\n",
      "4073                             Niger  2014             1.24868\n",
      "5055                           Somalia  2014             1.63000\n",
      "5116                       South Sudan  2014             2.60000\n"
     ]
    }
   ],
   "source": [
    "internet_5per = internet_df_final[(internet_df_final[\"Internet_Users_Pct\"] < 5) & (internet_df_final[\"Year\"] == 2014)]\n",
    "print(internet_5per)"
   ]
  },
  {
   "cell_type": "markdown",
   "id": "ff9169e0-4505-4cd6-8add-ee641ab63d51",
   "metadata": {},
   "source": [
    "20. Merge the two DataFrames to one. Do this in a way that keeps **all rows** from each of the two DataFrames. Call the new DataFrame `gdp_and_internet_use`. Look at the first and last few rows to confirm that it merged correctly."
   ]
  },
  {
   "cell_type": "code",
   "execution_count": 47,
   "id": "9cc1cee6-1e2d-4efb-b4d6-d1527ccd5ffc",
   "metadata": {},
   "outputs": [
    {
     "data": {
      "text/html": [
       "<div>\n",
       "<style scoped>\n",
       "    .dataframe tbody tr th:only-of-type {\n",
       "        vertical-align: middle;\n",
       "    }\n",
       "\n",
       "    .dataframe tbody tr th {\n",
       "        vertical-align: top;\n",
       "    }\n",
       "\n",
       "    .dataframe thead th {\n",
       "        text-align: right;\n",
       "    }\n",
       "</style>\n",
       "<table border=\"1\" class=\"dataframe\">\n",
       "  <thead>\n",
       "    <tr style=\"text-align: right;\">\n",
       "      <th></th>\n",
       "      <th>Country</th>\n",
       "      <th>Year</th>\n",
       "      <th>GDP_Per_Capita</th>\n",
       "      <th>Internet_Users_Pct</th>\n",
       "    </tr>\n",
       "  </thead>\n",
       "  <tbody>\n",
       "    <tr>\n",
       "      <th>0</th>\n",
       "      <td>Afghanistan</td>\n",
       "      <td>1990</td>\n",
       "      <td>NaN</td>\n",
       "      <td>0.000000</td>\n",
       "    </tr>\n",
       "    <tr>\n",
       "      <th>1</th>\n",
       "      <td>Afghanistan</td>\n",
       "      <td>2000</td>\n",
       "      <td>1617.826475</td>\n",
       "      <td>NaN</td>\n",
       "    </tr>\n",
       "    <tr>\n",
       "      <th>2</th>\n",
       "      <td>Afghanistan</td>\n",
       "      <td>2001</td>\n",
       "      <td>1454.110782</td>\n",
       "      <td>0.004723</td>\n",
       "    </tr>\n",
       "    <tr>\n",
       "      <th>3</th>\n",
       "      <td>Afghanistan</td>\n",
       "      <td>2002</td>\n",
       "      <td>1774.308743</td>\n",
       "      <td>0.004561</td>\n",
       "    </tr>\n",
       "    <tr>\n",
       "      <th>4</th>\n",
       "      <td>Afghanistan</td>\n",
       "      <td>2003</td>\n",
       "      <td>1815.928200</td>\n",
       "      <td>0.087891</td>\n",
       "    </tr>\n",
       "  </tbody>\n",
       "</table>\n",
       "</div>"
      ],
      "text/plain": [
       "       Country  Year  GDP_Per_Capita  Internet_Users_Pct\n",
       "0  Afghanistan  1990             NaN            0.000000\n",
       "1  Afghanistan  2000     1617.826475                 NaN\n",
       "2  Afghanistan  2001     1454.110782            0.004723\n",
       "3  Afghanistan  2002     1774.308743            0.004561\n",
       "4  Afghanistan  2003     1815.928200            0.087891"
      ]
     },
     "execution_count": 47,
     "metadata": {},
     "output_type": "execute_result"
    }
   ],
   "source": [
    "gdp_and_internet_use = pd.merge(gdp_df_final, internet_df_final, how='outer')\n",
    "gdp_and_internet_use.head()"
   ]
  },
  {
   "cell_type": "code",
   "execution_count": 48,
   "id": "ebcbbe69-685b-4a2b-a2ed-317e4e0ca934",
   "metadata": {},
   "outputs": [
    {
     "data": {
      "text/html": [
       "<div>\n",
       "<style scoped>\n",
       "    .dataframe tbody tr th:only-of-type {\n",
       "        vertical-align: middle;\n",
       "    }\n",
       "\n",
       "    .dataframe tbody tr th {\n",
       "        vertical-align: top;\n",
       "    }\n",
       "\n",
       "    .dataframe thead th {\n",
       "        text-align: right;\n",
       "    }\n",
       "</style>\n",
       "<table border=\"1\" class=\"dataframe\">\n",
       "  <thead>\n",
       "    <tr style=\"text-align: right;\">\n",
       "      <th></th>\n",
       "      <th>Country</th>\n",
       "      <th>Year</th>\n",
       "      <th>GDP_Per_Capita</th>\n",
       "      <th>Internet_Users_Pct</th>\n",
       "    </tr>\n",
       "  </thead>\n",
       "  <tbody>\n",
       "    <tr>\n",
       "      <th>9494</th>\n",
       "      <td>Zimbabwe</td>\n",
       "      <td>2019</td>\n",
       "      <td>3294.806084</td>\n",
       "      <td>26.5883</td>\n",
       "    </tr>\n",
       "    <tr>\n",
       "      <th>9495</th>\n",
       "      <td>Zimbabwe</td>\n",
       "      <td>2020</td>\n",
       "      <td>2987.269823</td>\n",
       "      <td>29.2986</td>\n",
       "    </tr>\n",
       "    <tr>\n",
       "      <th>9496</th>\n",
       "      <td>Zimbabwe</td>\n",
       "      <td>2021</td>\n",
       "      <td>3184.785451</td>\n",
       "      <td>32.4616</td>\n",
       "    </tr>\n",
       "    <tr>\n",
       "      <th>9497</th>\n",
       "      <td>Zimbabwe</td>\n",
       "      <td>2022</td>\n",
       "      <td>3323.121932</td>\n",
       "      <td>32.5615</td>\n",
       "    </tr>\n",
       "    <tr>\n",
       "      <th>9498</th>\n",
       "      <td>Zimbabwe</td>\n",
       "      <td>2023</td>\n",
       "      <td>3442.251327</td>\n",
       "      <td>NaN</td>\n",
       "    </tr>\n",
       "  </tbody>\n",
       "</table>\n",
       "</div>"
      ],
      "text/plain": [
       "       Country  Year  GDP_Per_Capita  Internet_Users_Pct\n",
       "9494  Zimbabwe  2019     3294.806084             26.5883\n",
       "9495  Zimbabwe  2020     2987.269823             29.2986\n",
       "9496  Zimbabwe  2021     3184.785451             32.4616\n",
       "9497  Zimbabwe  2022     3323.121932             32.5615\n",
       "9498  Zimbabwe  2023     3442.251327                 NaN"
      ]
     },
     "execution_count": 48,
     "metadata": {},
     "output_type": "execute_result"
    }
   ],
   "source": [
    "gdp_and_internet_use.tail()"
   ]
  },
  {
   "cell_type": "markdown",
   "id": "b8684fe0-1ec5-4130-aa09-e02965db2b83",
   "metadata": {},
   "source": [
    "21. Find the three countries with the highest internet users percentage in 2014. Use a seaborn FacetGrid (https://seaborn.pydata.org/generated/seaborn.FacetGrid.html) to compare how the GDP per capita has changed over time for these three countries. What do you notice?"
   ]
  },
  {
   "cell_type": "code",
   "execution_count": 53,
   "id": "b3940b0d-2f0d-4be4-b605-1742ede076fa",
   "metadata": {},
   "outputs": [
    {
     "name": "stdout",
     "output_type": "stream",
     "text": [
      "                          Country  Year  GDP_Per_Capita  Internet_Users_Pct\n",
      "3944                      Iceland  2014    57981.199448              98.158\n",
      "2867  Falkland (Malvinas) Islands  2014             NaN              97.600\n",
      "824                       Bermuda  2014    92298.387811              96.800\n"
     ]
    }
   ],
   "source": [
    "gdp_and_internet_2014 = gdp_and_internet_use[gdp_and_internet_use['Year'] == 2014].sort_values(by=['Internet_Users_Pct'], ascending=False)\n",
    "print(gdp_and_internet_2014.head(3))"
   ]
  },
  {
   "cell_type": "code",
   "execution_count": 71,
   "id": "90620526-376c-4df5-bbb5-8cffa8d10019",
   "metadata": {},
   "outputs": [
    {
     "name": "stdout",
     "output_type": "stream",
     "text": [
      "      Country  Year  GDP_Per_Capita  Internet_Users_Pct\n",
      "800   Bermuda  1990    79109.890650              0.0000\n",
      "801   Bermuda  1991    75754.494259                 NaN\n",
      "802   Bermuda  1992    75160.932166                 NaN\n",
      "803   Bermuda  1993    76883.813796                 NaN\n",
      "804   Bermuda  1994    76850.912239                 NaN\n",
      "...       ...   ...             ...                 ...\n",
      "3949  Iceland  2019    65065.905682             99.5049\n",
      "3950  Iceland  2020    59575.190393             99.5328\n",
      "3951  Iceland  2021    61685.835611             99.6870\n",
      "3952  Iceland  2022    65563.920870             99.8565\n",
      "3953  Iceland  2023    66880.065810                 NaN\n",
      "\n",
      "[91 rows x 4 columns]\n"
     ]
    }
   ],
   "source": [
    "gdp_internet_top3 = gdp_and_internet_use[gdp_and_internet_use[\"Country\"].isin([\"Iceland\",\"Falkland (Malvinas) Islands\", \"Bermuda\"])]\n",
    "print(gdp_internet_top3)"
   ]
  },
  {
   "cell_type": "code",
   "execution_count": 75,
   "id": "93c70a7f-1b43-4c68-8c3e-764336aca61a",
   "metadata": {},
   "outputs": [
    {
     "data": {
      "image/png": "[encoded data removed]",
      "text/plain": [
       "<Figure size 900x300 with 3 Axes>"
      ]
     },
     "metadata": {},
     "output_type": "display_data"
    }
   ],
   "source": [
    "grid = sns.FacetGrid(gdp_internet_top3, col=\"Country\")\n",
    "grid.map(sns.histplot, \"Year\", \"GDP_Per_Capita\")\n",
    "plt.show()"
   ]
  },
  {
   "cell_type": "code",
   "execution_count": null,
   "id": "df0d3bf1-456a-4cd4-8133-884c2692f7d5",
   "metadata": {},
   "outputs": [],
   "source": []
  }
 ],
 "metadata": {
  "kernelspec": {
   "display_name": "Python 3 (ipykernel)",
   "language": "python",
   "name": "python3"
  },
  "language_info": {
   "codemirror_mode": {
    "name": "ipython",
    "version": 3
   },
   "file_extension": ".py",
   "mimetype": "text/x-python",
   "name": "python",
   "nbconvert_exporter": "python",
   "pygments_lexer": "ipython3",
   "version": "3.12.4"
  }
 },
 "nbformat": 4,
 "nbformat_minor": 5
}
